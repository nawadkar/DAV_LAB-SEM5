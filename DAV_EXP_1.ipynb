{
  "nbformat": 4,
  "nbformat_minor": 0,
  "metadata": {
    "colab": {
      "provenance": []
    },
    "kernelspec": {
      "name": "ir",
      "display_name": "R"
    },
    "language_info": {
      "name": "R"
    }
  },
  "cells": [
    {
      "cell_type": "markdown",
      "source": [
        "# **Theory:**\n",
        "\n",
        "Exploring the top data analytics libraries in Python reveals a selection of powerful tools designed to streamline scientific computing, data manipulation, machine learning, and web scraping tasks. Similarly, the realm of R offers a rich ecosystem of packages tailored for data manipulation, visualization, machine learning, and web application development. Below, we delve into the features and functionalities of the leading libraries in both Python and R.\n",
        "\n",
        "##**Top 5 Data Analytics Libraries in Python.**\n",
        "\n",
        "\n",
        "Numpy:\n",
        "\n",
        "*   At the forefront, NumPy emerges as a fundamental package for scientific computing in Python.\n",
        "*    It furnishes a robust N-dimensional array object along with an array of functions for efficient array operations, encompassing mathematical, logical, and statistical operations, among others.\n",
        "\n",
        "\n",
        "\n",
        "\n",
        "Pandas:\n",
        "\n",
        "*   Pandas, another cornerstone in Python's data analysis arsenal, furnishes fast and flexible data structures, including the DataFrame object.\n",
        "*   Engineered to handle relational or labeled data effortlessly, Pandas simplifies data loading, alignment, and manipulation tasks.\n",
        "\n",
        "\n",
        "\n",
        "\n",
        "Scikit-Learn:\n",
        "\n",
        "*   Scikit-Learn stands as an open-source machine learning library offering support for both supervised and unsupervised learning techniques.\n",
        "*    It provides a suite of tools for model fitting, preprocessing, selection, and evaluation, rendering it accessible and adaptable across diverse contexts.\n",
        "\n",
        "\n",
        "\n",
        "\n",
        "Keras:\n",
        "\n",
        "*   For deep learning aficionados, Keras emerges as a premier library, facilitating the development of neural network models with its consistent API and support for multiple backends, including TensorFlow and Theano.\n",
        "*    Its user-friendly interface and scalability make it an attractive choice for CPU and GPU-based computations.\n",
        "\n",
        "\n",
        "\n",
        "\n",
        "BeautifulSoup:\n",
        "\n",
        "*   Rounding off the list, BeautifulSoup emerges as a quintessential tool for parsing HTML and XML documents.\n",
        "*   By creating parse trees and offering intuitive methods for content extraction and navigation, BeautifulSoup simplifies the often intricate process of web scraping.\n",
        "\n",
        "\n",
        "\n",
        "\n",
        "## **Top 5  Data Analytics Librariesin R:**\n",
        "\n",
        "dplyr:\n",
        "\n",
        "*   In the realm of R, dplyr emerges as a potent package for manipulating and summarizing unstructured data.\n",
        "*   By furnishing a suite of simple yet powerful functions, dplyr streamlines common data manipulation tasks, ensuring efficiency and ease of use.\n",
        "\n",
        "\n",
        "\n",
        "\n",
        "ggplot2:\n",
        "* Leveraging the grammar of graphics, ggplot2 empowers R users to construct visually compelling graphs by expressing relationships between data attributes and graphical representations in a coherent manner, thus expediting the creation of plots.\n",
        "\n",
        "lubridate:\n",
        "* Addressing the limitations of R's native date and time handling capabilities,\n",
        "* lubridate offers a comprehensive suite of functions designed to simplify date and time manipulation tasks, enhancing the efficiency and clarity of code.\n",
        "\n",
        "mlr:\n",
        "* Serving as a generic and extensible framework for classification, regression, and clustering tasks in R,\n",
        "* mlr integrates over 160 basic learners and includes meta-algorithms and model selection techniques to augment the functionality of basic learners.\n",
        "\n",
        "shiny:\n",
        "* shiny emerges as a groundbreaking R package for building interactive web applications directly from R code.\n",
        "* By adopting a reactive programming paradigm and offering a curated set of user interface functions, shiny empowers data scientists to develop sophisticated web apps without delving into the intricacies of web development technologies.\n",
        "\n",
        "\n",
        "\n",
        "\n"
      ],
      "metadata": {
        "id": "FhJ48sf5U5mm"
      }
    },
    {
      "cell_type": "markdown",
      "source": [
        "\n",
        "\n",
        "---\n",
        "\n",
        "## **Python**"
      ],
      "metadata": {
        "id": "Ix5UBDroW4Sj"
      }
    },
    {
      "cell_type": "code",
      "source": [
        "import numpy as np\n",
        "array1D = np.array([2,3,4,5])\n",
        "print(f\"1D Array : {array1D}, Shape : {array1D.shape}\")\n",
        "\n",
        "array2D = np.array([[1,2,3],[4,5,6]])\n",
        "print(f\"2D Array : \\n{array2D}, Shape : {array2D.shape}\")"
      ],
      "metadata": {
        "colab": {
          "base_uri": "https://localhost:8080/"
        },
        "id": "VlOVMmqhVChP",
        "outputId": "bd56f08b-0715-4b78-c2f4-a9bf8e2f79dd"
      },
      "execution_count": null,
      "outputs": [
        {
          "output_type": "stream",
          "name": "stdout",
          "text": [
            "1D Array : [2 3 4 5], Shape : (4,)\n",
            "2D Array : \n",
            "[[1 2 3]\n",
            " [4 5 6]], Shape : (2, 3)\n"
          ]
        }
      ]
    },
    {
      "cell_type": "code",
      "source": [
        "import pandas as pd\n",
        "data = {\n",
        "  \"calories\": [420, None, 390],\n",
        "  \"duration\": [50, 40, 45]\n",
        "}\n",
        "df = pd.DataFrame(data)\n",
        "missing = np.where(df[\"calories\"].isnull() == True)\n",
        "print(df)\n",
        "print(missing)"
      ],
      "metadata": {
        "colab": {
          "base_uri": "https://localhost:8080/"
        },
        "id": "uSptTmlvWzAV",
        "outputId": "e2380c52-59fb-48e5-c7cf-d7eb1b3d7a2d"
      },
      "execution_count": null,
      "outputs": [
        {
          "output_type": "stream",
          "name": "stdout",
          "text": [
            "   calories  duration\n",
            "0     420.0        50\n",
            "1       NaN        40\n",
            "2     390.0        45\n",
            "(array([1]),)\n"
          ]
        }
      ]
    },
    {
      "cell_type": "markdown",
      "source": [
        "\n",
        "\n",
        "---\n",
        "\n",
        "## **R**"
      ],
      "metadata": {
        "id": "QaPEZQujW28O"
      }
    },
    {
      "cell_type": "code",
      "source": [
        "library(dplyr)\n",
        "library(ggplot2)\n",
        "library(dplyr)\n",
        "df = data.frame(\n",
        "    department = c(\"AIDS\",\"CS\",\"IT\",\"EXTC\"),\n",
        "    year = c(2014,2016,2006,2001)\n",
        ")\n",
        "df.department = arrange(df,year)\n",
        "df.department"
      ],
      "metadata": {
        "colab": {
          "base_uri": "https://localhost:8080/",
          "height": 466
        },
        "id": "Alh8FkC_XDIj",
        "outputId": "9da30444-5155-41b3-8c68-246c398999f5"
      },
      "execution_count": null,
      "outputs": [
        {
          "output_type": "stream",
          "name": "stderr",
          "text": [
            "\n",
            "Attaching package: ‘dplyr’\n",
            "\n",
            "\n",
            "The following objects are masked from ‘package:stats’:\n",
            "\n",
            "    filter, lag\n",
            "\n",
            "\n",
            "The following objects are masked from ‘package:base’:\n",
            "\n",
            "    intersect, setdiff, setequal, union\n",
            "\n",
            "\n"
          ]
        },
        {
          "output_type": "display_data",
          "data": {
            "text/html": [
              "<table class=\"dataframe\">\n",
              "<caption>A data.frame: 4 × 2</caption>\n",
              "<thead>\n",
              "\t<tr><th scope=col>department</th><th scope=col>year</th></tr>\n",
              "\t<tr><th scope=col>&lt;chr&gt;</th><th scope=col>&lt;dbl&gt;</th></tr>\n",
              "</thead>\n",
              "<tbody>\n",
              "\t<tr><td>EXTC</td><td>2001</td></tr>\n",
              "\t<tr><td>IT  </td><td>2006</td></tr>\n",
              "\t<tr><td>AIDS</td><td>2014</td></tr>\n",
              "\t<tr><td>CS  </td><td>2016</td></tr>\n",
              "</tbody>\n",
              "</table>\n"
            ],
            "text/markdown": "\nA data.frame: 4 × 2\n\n| department &lt;chr&gt; | year &lt;dbl&gt; |\n|---|---|\n| EXTC | 2001 |\n| IT   | 2006 |\n| AIDS | 2014 |\n| CS   | 2016 |\n\n",
            "text/latex": "A data.frame: 4 × 2\n\\begin{tabular}{ll}\n department & year\\\\\n <chr> & <dbl>\\\\\n\\hline\n\t EXTC & 2001\\\\\n\t IT   & 2006\\\\\n\t AIDS & 2014\\\\\n\t CS   & 2016\\\\\n\\end{tabular}\n",
            "text/plain": [
              "  department year\n",
              "1 EXTC       2001\n",
              "2 IT         2006\n",
              "3 AIDS       2014\n",
              "4 CS         2016"
            ]
          },
          "metadata": {}
        }
      ]
    },
    {
      "cell_type": "markdown",
      "source": [
        "\n",
        "\n",
        "---\n",
        "# **Conclusion:**\n",
        "* Identified the Data Analytics Libraries in Python and R\n",
        "* Performed simple experiments with these libraries in Python and R\n"
      ],
      "metadata": {
        "id": "jjg7B_LPYv39"
      }
    }
  ]
}